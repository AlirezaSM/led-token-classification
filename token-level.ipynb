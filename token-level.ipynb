{
 "cells": [
  {
   "cell_type": "markdown",
   "id": "bcb3e880",
   "metadata": {},
   "source": [
    "# Token Level "
   ]
  },
  {
   "cell_type": "markdown",
   "id": "78727e84",
   "metadata": {},
   "source": [
    "## Import Dependencies  "
   ]
  },
  {
   "cell_type": "code",
   "execution_count": 1,
   "id": "9e08951d",
   "metadata": {},
   "outputs": [
    {
     "name": "stderr",
     "output_type": "stream",
     "text": [
      "2022-10-09 00:39:07.101922: W tensorflow/stream_executor/platform/default/dso_loader.cc:64] Could not load dynamic library 'libcudart.so.11.0'; dlerror: libcudart.so.11.0: cannot open shared object file: No such file or directory\n",
      "2022-10-09 00:39:07.101944: I tensorflow/stream_executor/cuda/cudart_stub.cc:29] Ignore above cudart dlerror if you do not have a GPU set up on your machine.\n"
     ]
    }
   ],
   "source": [
    "import numpy as np\n",
    "import os \n",
    "from itertools import repeat \n",
    "from transformers import AutoTokenizer, AutoModelForTokenClassification, pipeline\n",
    "from cleanlab.rank import get_label_quality_scores \n",
    "from utils import readfile, get_probs, get_pred_probs \n",
    "\n",
    "from cleanlab.internal.token_classification_utils import get_sentence, filter_sentence\n",
    "import matplotlib.pyplot as plt \n",
    "os.environ[\"TOKENIZERS_PARALLELISM\"] = \"false\" \n",
    "from sklearn import metrics "
   ]
  },
  {
   "cell_type": "markdown",
   "id": "728cdceb",
   "metadata": {},
   "source": [
    "## Read datasets: original CoNLL-2003 & CoNLL++ "
   ]
  },
  {
   "cell_type": "code",
   "execution_count": 2,
   "id": "7d4174b8",
   "metadata": {},
   "outputs": [],
   "source": [
    "filepath = 'data/conll.txt'\n",
    "given_words, given_labels = readfile(filepath) \n",
    "sentences = list(map(get_sentence, given_words)) \n",
    "\n",
    "sentences, mask = filter_sentence(sentences) \n",
    "given_words = [words for m, words in zip(mask, given_words) if m] \n",
    "given_labels = [labels for m, labels in zip(mask, given_labels) if m] \n",
    "labels = [label for given_label in given_labels for label in given_label] "
   ]
  },
  {
   "cell_type": "code",
   "execution_count": 3,
   "id": "4c73603e",
   "metadata": {},
   "outputs": [],
   "source": [
    "ground_truth_path = 'data/conllpp.txt' \n",
    "ground_truth_labels = readfile(ground_truth_path)[1] \n",
    "ground_truth_labels = [label for m, label in zip(mask, ground_truth_labels) if m] \n",
    "ground_truth_labels = [label for labels in ground_truth_labels for label in labels] "
   ]
  },
  {
   "cell_type": "markdown",
   "id": "5e91efe5",
   "metadata": {},
   "source": [
    "## Distribution of mislabels \n",
    "\n",
    "The cell in the $i$th row and $j$th column below lists the number (or percentage) of tokens that are labeled class i in CoNLL++ (ground truth label) and labeled as class j in the original CoNLL-2003 dataset. "
   ]
  },
  {
   "cell_type": "code",
   "execution_count": 4,
   "id": "8a1b863a",
   "metadata": {},
   "outputs": [
    {
     "name": "stdout",
     "output_type": "stream",
     "text": [
      "\tO\tB-MISC\tI-MISC\tB-PER\tI-PER\tB-ORG\tI-ORG\tB-LOC\tI-LOC\n",
      "O\t38132\t3\t6\t2\t0\t3\t0\t1\t0\n",
      "B-MISC\t39\t665\t0\t0\t0\t1\t0\t18\t0\n",
      "I-MISC\t48\t4\t202\t0\t0\t0\t0\t0\t0\n",
      "B-PER\t8\t2\t0\t1603\t0\t1\t0\t3\t0\n",
      "I-PER\t2\t0\t0\t5\t1153\t0\t0\t0\t1\n",
      "B-ORG\t14\t20\t0\t3\t0\t1644\t0\t32\t0\n",
      "I-ORG\t28\t0\t6\t0\t3\t3\t831\t2\t7\n",
      "B-LOC\t15\t8\t0\t3\t0\t7\t1\t1612\t0\n",
      "I-LOC\t7\t0\t2\t0\t0\t0\t1\t0\t249\n"
     ]
    }
   ],
   "source": [
    "cm = metrics.confusion_matrix(ground_truth_labels, labels) \n",
    "entities = ['O', 'B-MISC', 'I-MISC', 'B-PER', 'I-PER', 'B-ORG', 'I-ORG', 'B-LOC', 'I-LOC'] \n",
    "\n",
    "print('\\t' + '\\t'.join(entities)) \n",
    "for entity, dist in zip(entities, cm): \n",
    "    s = [str(d) for d in dist] \n",
    "    print(entity + '\\t' + '\\t'.join(s)) "
   ]
  },
  {
   "cell_type": "code",
   "execution_count": 5,
   "id": "05290d71",
   "metadata": {},
   "outputs": [
    {
     "name": "stdout",
     "output_type": "stream",
     "text": [
      "\tO\tB-MISC\tI-MISC\tB-PER\tI-PER\tB-ORG\tI-ORG\tB-LOC\tI-LOC\n",
      "O\t99.96%\t 0.01%\t 0.02%\t 0.01%\t 0.00%\t 0.01%\t 0.00%\t 0.00%\t 0.00%\n",
      "B-MISC\t 5.39%\t91.98%\t 0.00%\t 0.00%\t 0.00%\t 0.14%\t 0.00%\t 2.49%\t 0.00%\n",
      "I-MISC\t18.90%\t 1.57%\t79.53%\t 0.00%\t 0.00%\t 0.00%\t 0.00%\t 0.00%\t 0.00%\n",
      "B-PER\t 0.49%\t 0.12%\t 0.00%\t99.13%\t 0.00%\t 0.06%\t 0.00%\t 0.19%\t 0.00%\n",
      "I-PER\t 0.17%\t 0.00%\t 0.00%\t 0.43%\t99.31%\t 0.00%\t 0.00%\t 0.00%\t 0.09%\n",
      "B-ORG\t 0.82%\t 1.17%\t 0.00%\t 0.18%\t 0.00%\t95.97%\t 0.00%\t 1.87%\t 0.00%\n",
      "I-ORG\t 3.18%\t 0.00%\t 0.68%\t 0.00%\t 0.34%\t 0.34%\t94.43%\t 0.23%\t 0.80%\n",
      "B-LOC\t 0.91%\t 0.49%\t 0.00%\t 0.18%\t 0.00%\t 0.43%\t 0.06%\t97.93%\t 0.00%\n",
      "I-LOC\t 2.70%\t 0.00%\t 0.77%\t 0.00%\t 0.00%\t 0.00%\t 0.39%\t 0.00%\t96.14%\n"
     ]
    }
   ],
   "source": [
    "percentage = np.sum(cm, axis=1)[:, np.newaxis] \n",
    "percentage = cm / percentage * 100 \n",
    "percentage = np.round(percentage, 2) \n",
    "\n",
    "def reformat(val): \n",
    "    val = str(val) \n",
    "    val = val + '%' if val.index('.') == len(val)-3 else val + '0%' \n",
    "    val = ' ' * (6-len(val)) + val \n",
    "    return val \n",
    "\n",
    "print('\\t' + '\\t'.join(entities)) \n",
    "for entity, per in zip(entities, percentage): \n",
    "    s = [reformat(p) for p in per] \n",
    "    print(entity + '\\t' + '\\t'.join(s)) "
   ]
  },
  {
   "cell_type": "markdown",
   "id": "46d9bcdc",
   "metadata": {},
   "source": [
    "## Token-level label error detection "
   ]
  },
  {
   "cell_type": "code",
   "execution_count": 6,
   "id": "d3c34d9c",
   "metadata": {},
   "outputs": [],
   "source": [
    "model_name = 'dslim/bert-base-NER'\n",
    "model = AutoModelForTokenClassification.from_pretrained(model_name) \n",
    "tokenizer = AutoTokenizer.from_pretrained(model_name)\n",
    "pipe = pipeline(task=\"ner\", model=model, tokenizer=tokenizer)\n",
    "\n",
    "sentence_tokens = [[tokenizer.decode(token) for token in tokenizer(sentence)['input_ids']] for sentence in sentences] \n",
    "sentence_tokens = [[token.replace('#', '') for token in sentence_token][1:-1] for sentence_token in sentence_tokens] \n",
    "\n",
    "errors = np.array(ground_truth_labels) != np.array(labels) \n",
    "n_error = sum(errors) \n",
    "error_percentage = n_error / len(errors) "
   ]
  },
  {
   "cell_type": "code",
   "execution_count": 7,
   "id": "3a09a91a",
   "metadata": {},
   "outputs": [],
   "source": [
    "sentence_probs = list(map(get_probs, repeat(pipe), sentences))\n",
    "pred_probs = list(map(get_pred_probs, sentence_probs, sentence_tokens, given_words)) \n",
    "pred_probs = [pred for pred_prob in pred_probs for pred in pred_prob] \n",
    "pred_probs = np.array(pred_probs) "
   ]
  },
  {
   "cell_type": "code",
   "execution_count": 8,
   "id": "b6d16a9e",
   "metadata": {},
   "outputs": [
    {
     "name": "stdout",
     "output_type": "stream",
     "text": [
      "                              AUPRC     AUPRC     Lift @ Error\n",
      "self_confidence               0.3483    0.9545    62.4867   \n",
      "normalized_margin             0.3296    0.9552    66.3618   \n",
      "confidence_weighted_entropy   0.2293    0.9355    46.9861   \n"
     ]
    },
    {
     "data": {
      "image/png": "[encoded data removed]",
      "text/plain": [
       "<Figure size 720x432 with 1 Axes>"
      ]
     },
     "metadata": {
      "needs_background": "light"
     },
     "output_type": "display_data"
    }
   ],
   "source": [
    "methods = [\"self_confidence\", \"normalized_margin\", \"confidence_weighted_entropy\"] \n",
    "colors = ['blue', 'red', 'green'] \n",
    "\n",
    "print('{:30}{:10}{:10}{:10}'.format('', 'AUPRC', 'AUPRC', 'Lift @ Error')) \n",
    "plt.figure(figsize=(10, 6)) \n",
    "for color, method in zip(colors, methods): \n",
    "    scores = get_label_quality_scores(labels, pred_probs, method=method) \n",
    "    ranking = np.argsort(scores) \n",
    "    error_retrival = [errors[r] for r in ranking] \n",
    "    \n",
    "    error_counts = [] \n",
    "    for e in error_retrival: \n",
    "        if len(error_counts) == 0: \n",
    "            error_counts.append(int(e)) \n",
    "        else: \n",
    "            error_counts.append(error_counts[-1] + int(e)) \n",
    "\n",
    "    precision = error_counts / (np.arange(len(error_retrival)) + 1) \n",
    "    recall = error_counts / n_error \n",
    "    \n",
    "    fpr, tpr, thresholds = metrics.roc_curve(errors, -scores) \n",
    "    auroc = np.round(metrics.auc(fpr, tpr), 4) \n",
    "    auprc = np.round(metrics.auc(recall, precision), 4) \n",
    "    lift = np.round(precision[n_error] / error_percentage, 4) \n",
    "    \n",
    "    print('{:30}{:<10}{:<10}{:<10}'.format(method, auprc, auroc, lift)) \n",
    "    \n",
    "    plt.plot(recall, precision, color=color) \n",
    "    \n",
    "plt.legend(methods) \n",
    "plt.xlabel('Recall') \n",
    "plt.ylabel('Precision') \n",
    "plt.savefig('token-level.png', dpi=400) \n",
    "plt.show() "
   ]
  }
 ],
 "metadata": {
  "kernelspec": {
   "display_name": "Python 3 (ipykernel)",
   "language": "python",
   "name": "python3"
  },
  "language_info": {
   "codemirror_mode": {
    "name": "ipython",
    "version": 3
   },
   "file_extension": ".py",
   "mimetype": "text/x-python",
   "name": "python",
   "nbconvert_exporter": "python",
   "pygments_lexer": "ipython3",
   "version": "3.9.13"
  }
 },
 "nbformat": 4,
 "nbformat_minor": 5
}
